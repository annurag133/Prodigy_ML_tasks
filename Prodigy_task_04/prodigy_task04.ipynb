{
 "cells": [
  {
   "cell_type": "code",
   "execution_count": 1,
   "id": "9e563968",
   "metadata": {},
   "outputs": [],
   "source": [
    "import tensorflow as tf\n",
    "from tensorflow.keras.preprocessing.image import ImageDataGenerator\n",
    "from tensorflow.keras.models import Sequential\n",
    "from tensorflow.keras.layers import Conv2D, MaxPooling2D, Flatten, Dense, Dropout\n",
    "import numpy as np\n",
    "import os\n",
    "\n",
    "# Set the path to your dataset directory\n",
    "base_dir = '/Users/anuragtiwari/Downloads/gesture/leapGestRecog'\n"
   ]
  },
  {
   "cell_type": "code",
   "execution_count": 2,
   "id": "9e9cab5d",
   "metadata": {},
   "outputs": [
    {
     "name": "stdout",
     "output_type": "stream",
     "text": [
      "Found 32000 images belonging to 11 classes.\n",
      "Found 8000 images belonging to 11 classes.\n",
      "Found 40000 images belonging to 11 classes.\n"
     ]
    }
   ],
   "source": [
    "# Create ImageDataGenerators for training and validation data\n",
    "train_datagen = ImageDataGenerator(\n",
    "    rescale=1./255,\n",
    "    validation_split=0.2  # Use 20% of the training data for validation\n",
    ")\n",
    "\n",
    "# Use only rescaling for test data\n",
    "test_datagen = ImageDataGenerator(rescale=1./255)\n",
    "\n",
    "# Flow data from directories\n",
    "train_generator = train_datagen.flow_from_directory(\n",
    "    base_dir,\n",
    "    target_size=(64, 64),  # Use a smaller target size for faster processing\n",
    "    batch_size=16,         # Smaller batch size for faster iteration\n",
    "    class_mode='categorical',\n",
    "    subset='training',\n",
    "    shuffle=True\n",
    ")\n",
    "\n",
    "val_generator = train_datagen.flow_from_directory(\n",
    "    base_dir,\n",
    "    target_size=(64, 64),\n",
    "    batch_size=16,\n",
    "    class_mode='categorical',\n",
    "    subset='validation',\n",
    "    shuffle=True\n",
    ")\n",
    "\n",
    "# Assuming you have a separate test directory\n",
    "test_generator = test_datagen.flow_from_directory(\n",
    "    base_dir,\n",
    "    target_size=(64, 64),\n",
    "    batch_size=16,\n",
    "    class_mode='categorical',\n",
    "    shuffle=True\n",
    ")\n"
   ]
  },
  {
   "cell_type": "code",
   "execution_count": 3,
   "id": "bafb3afa",
   "metadata": {},
   "outputs": [
    {
     "name": "stderr",
     "output_type": "stream",
     "text": [
      "/Users/anuragtiwari/anaconda3/lib/python3.11/site-packages/keras/src/layers/convolutional/base_conv.py:107: UserWarning: Do not pass an `input_shape`/`input_dim` argument to a layer. When using Sequential models, prefer using an `Input(shape)` object as the first layer in the model instead.\n",
      "  super().__init__(activity_regularizer=activity_regularizer, **kwargs)\n",
      "/Users/anuragtiwari/anaconda3/lib/python3.11/site-packages/keras/src/trainers/data_adapters/py_dataset_adapter.py:121: UserWarning: Your `PyDataset` class should call `super().__init__(**kwargs)` in its constructor. `**kwargs` can include `workers`, `use_multiprocessing`, `max_queue_size`. Do not pass these arguments to `fit()`, as they will be ignored.\n",
      "  self._warn_if_super_not_called()\n"
     ]
    },
    {
     "name": "stdout",
     "output_type": "stream",
     "text": [
      "\u001b[1m2000/2000\u001b[0m \u001b[32m━━━━━━━━━━━━━━━━━━━━\u001b[0m\u001b[37m\u001b[0m \u001b[1m70s\u001b[0m 35ms/step - accuracy: 0.5369 - loss: 1.3158 - val_accuracy: 0.1000 - val_loss: 5.1456\n"
     ]
    }
   ],
   "source": [
    "# Define a simpler CNN model\n",
    "model = Sequential([\n",
    "    Conv2D(16, (3, 3), activation='relu', input_shape=(64, 64, 3)),\n",
    "    MaxPooling2D((2, 2)),\n",
    "    Conv2D(32, (3, 3), activation='relu'),\n",
    "    MaxPooling2D((2, 2)),\n",
    "    Flatten(),\n",
    "    Dense(64, activation='relu'),\n",
    "    Dropout(0.5),\n",
    "    Dense(train_generator.num_classes, activation='softmax')\n",
    "])\n",
    "\n",
    "# Compile the model\n",
    "model.compile(optimizer='adam', loss='categorical_crossentropy', metrics=['accuracy'])\n",
    "\n",
    "# Train the model with one epoch\n",
    "history = model.fit(\n",
    "    train_generator,\n",
    "    epochs=1,  # Use only one epoch\n",
    "    validation_data=val_generator\n",
    ")\n"
   ]
  },
  {
   "cell_type": "code",
   "execution_count": 4,
   "id": "744cd345",
   "metadata": {},
   "outputs": [
    {
     "name": "stdout",
     "output_type": "stream",
     "text": [
      "\u001b[1m2500/2500\u001b[0m \u001b[32m━━━━━━━━━━━━━━━━━━━━\u001b[0m\u001b[37m\u001b[0m \u001b[1m66s\u001b[0m 26ms/step - accuracy: 0.4989 - loss: 1.5149\n",
      "Test Accuracy: 50.00%\n"
     ]
    }
   ],
   "source": [
    "# Evaluate the model on the test set\n",
    "test_loss, test_acc = model.evaluate(test_generator)\n",
    "print(f\"Test Accuracy: {test_acc * 100:.2f}%\")\n"
   ]
  },
  {
   "cell_type": "code",
   "execution_count": 5,
   "id": "983eb553",
   "metadata": {},
   "outputs": [
    {
     "name": "stderr",
     "output_type": "stream",
     "text": [
      "WARNING:absl:You are saving your model as an HDF5 file via `model.save()` or `keras.saving.save_model(model)`. This file format is considered legacy. We recommend using instead the native Keras format, e.g. `model.save('my_model.keras')` or `keras.saving.save_model(model, 'my_model.keras')`. \n",
      "WARNING:absl:Compiled the loaded model, but the compiled metrics have yet to be built. `model.compile_metrics` will be empty until you train or evaluate the model.\n"
     ]
    }
   ],
   "source": [
    "# Save the model\n",
    "model.save('hand_gesture_model.h5')\n",
    "\n",
    "# Load the model\n",
    "model = tf.keras.models.load_model('hand_gesture_model.h5')\n"
   ]
  },
  {
   "cell_type": "code",
   "execution_count": 15,
   "id": "2bf39949",
   "metadata": {},
   "outputs": [
    {
     "name": "stderr",
     "output_type": "stream",
     "text": [
      "WARNING:absl:Compiled the loaded model, but the compiled metrics have yet to be built. `model.compile_metrics` will be empty until you train or evaluate the model.\n"
     ]
    },
    {
     "name": "stdout",
     "output_type": "stream",
     "text": [
      "\u001b[1m1/1\u001b[0m \u001b[32m━━━━━━━━━━━━━━━━━━━━\u001b[0m\u001b[37m\u001b[0m \u001b[1m0s\u001b[0m 25ms/step\n",
      "Predicted gesture: Unknown Gesture\n"
     ]
    },
    {
     "data": {
      "image/png": "[encoded data removed]",
      "text/plain": [
       "<Figure size 640x480 with 1 Axes>"
      ]
     },
     "metadata": {},
     "output_type": "display_data"
    }
   ],
   "source": [
    "import tensorflow as tf\n",
    "from tensorflow.keras.preprocessing.image import ImageDataGenerator\n",
    "from tensorflow.keras.models import Sequential\n",
    "from tensorflow.keras.layers import Conv2D, MaxPooling2D, Flatten, Dense, Dropout\n",
    "from tensorflow.keras.preprocessing import image\n",
    "import numpy as np\n",
    "import os\n",
    "import matplotlib.pyplot as plt\n",
    "\n",
    "# Set the path to your dataset directory\n",
    "base_dir = '/Users/anuragtiwari/Downloads/gesture/leapGestRecog'\n",
    "\n",
    "# Define the mapping of class indices to gesture names\n",
    "class_indices = {\n",
    "    0: \"01_palm\",\n",
    "    1: \"02_L\",\n",
    "    2: \"03_fist\",\n",
    "    3: \"04_fist_moved\",\n",
    "    4: \"05_thumb\",\n",
    "    5: \"06_index\",\n",
    "    6: \"07_ok\",\n",
    "    7: \"08_palm_moved\",\n",
    "    8: \"09_c\",\n",
    "    9: \"10_down\"\n",
    "}\n",
    "\n",
    "# Function to preprocess and predict a gesture from an image\n",
    "def predict_gesture(model, img_path):\n",
    "    img = image.load_img(img_path, target_size=(64, 64))  # Ensure the target size matches your model input\n",
    "    img_array = image.img_to_array(img)\n",
    "    img_array = np.expand_dims(img_array, axis=0)\n",
    "    img_array /= 255.\n",
    "    pred = model.predict(img_array)\n",
    "    gesture_class = np.argmax(pred)\n",
    "    gesture_name = class_indices.get(gesture_class, \"Unknown Gesture\")\n",
    "    return gesture_name, img_array[0]  # Return the image array for plotting\n",
    "\n",
    "# Load the model\n",
    "model = tf.keras.models.load_model('hand_gesture_model.h5')\n",
    "\n",
    "# Example prediction\n",
    "img_path = '/Users/anuragtiwari/Downloads/gesture/leapGestRecog/00/01_palm/frame_00_01_0001.png'  # Replace with the correct path to your test image\n",
    "gesture_name, img_array = predict_gesture(model, img_path)\n",
    "\n",
    "# Print the predicted gesture\n",
    "print(f\"Predicted gesture: {gesture_name}\")\n",
    "\n",
    "# Display the image\n",
    "plt.imshow(img_array)\n",
    "plt.title(f\"Predicted Gesture: {gesture_name}\")\n",
    "plt.axis('off')  # Hide axes\n",
    "plt.show()\n"
   ]
  },
  {
   "cell_type": "code",
   "execution_count": null,
   "id": "943ce1ef",
   "metadata": {},
   "outputs": [],
   "source": [
    "\n"
   ]
  },
  {
   "cell_type": "code",
   "execution_count": null,
   "id": "c2a7d832",
   "metadata": {},
   "outputs": [],
   "source": []
  }
 ],
 "metadata": {
  "kernelspec": {
   "display_name": "Python 3 (ipykernel)",
   "language": "python",
   "name": "python3"
  },
  "language_info": {
   "codemirror_mode": {
    "name": "ipython",
    "version": 3
   },
   "file_extension": ".py",
   "mimetype": "text/x-python",
   "name": "python",
   "nbconvert_exporter": "python",
   "pygments_lexer": "ipython3",
   "version": "3.11.5"
  }
 },
 "nbformat": 4,
 "nbformat_minor": 5
}
